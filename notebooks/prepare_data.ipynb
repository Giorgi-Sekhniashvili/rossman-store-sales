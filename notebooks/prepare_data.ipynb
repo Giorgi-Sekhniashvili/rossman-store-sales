{
 "cells": [
  {
   "cell_type": "code",
   "execution_count": 1,
   "outputs": [
    {
     "name": "stdout",
     "output_type": "stream",
     "text": [
      "(1017209, 9) (41088, 8) (1115, 10)\n"
     ]
    }
   ],
   "source": [
    "import pandas as pd\n",
    "\n",
    "train_df = pd.read_csv('../data/train.csv', low_memory=False)\n",
    "test_df = pd.read_csv('../data/test.csv')\n",
    "store_df = pd.read_csv('../data/store.csv')\n",
    "\n",
    "print(train_df.shape, test_df.shape, store_df.shape)"
   ],
   "metadata": {
    "collapsed": false
   }
  },
  {
   "cell_type": "code",
   "execution_count": 2,
   "outputs": [],
   "source": [
    "train_df = pd.merge(train_df, store_df, on='Store')\n",
    "test_df = pd.merge(test_df, store_df, on='Store')"
   ],
   "metadata": {
    "collapsed": false
   }
  },
  {
   "cell_type": "code",
   "execution_count": 3,
   "outputs": [
    {
     "name": "stdout",
     "output_type": "stream",
     "text": [
      "Done\n"
     ]
    }
   ],
   "source": [
    "\n",
    "\n",
    "\n",
    "# Gather some features\n",
    "def build_features(features, data):\n",
    "    # remove NaNs\n",
    "    data.fillna(0, inplace=True)\n",
    "    data.loc[data.Open.isnull(), 'Open'] = 1\n",
    "    # Use some properties directly\n",
    "    features.extend(['CompetitionDistance', 'Promo', 'Promo2', 'SchoolHoliday'])\n",
    "\n",
    "    # Label encode some features\n",
    "    features.extend(['StoreType', 'Assortment', 'StateHoliday'])\n",
    "    mappings = {'0': 0, 'a': 1, 'b': 2, 'c': 3, 'd': 4}\n",
    "    data.StoreType.replace(mappings, inplace=True)\n",
    "    data.Assortment.replace(mappings, inplace=True)\n",
    "    data.StateHoliday.replace(mappings, inplace=True)\n",
    "\n",
    "    features.extend(['DayOfWeek', 'Month', 'Day', 'Year', 'WeekOfYear'])\n",
    "    data['Date'] = pd.to_datetime(data.Date)\n",
    "    data['Year'] = data.Date.dt.year\n",
    "    data['Month'] = data.Date.dt.month\n",
    "    data['Day'] = data.Date.dt.day\n",
    "    data['DayOfWeek'] = data.Date.dt.dayofweek\n",
    "    data['WeekOfYear'] = data.Date.dt.isocalendar().week\n",
    "\n",
    "    # Calculate time competition open time in months\n",
    "    features.append('CompetitionOpen')\n",
    "    data['CompetitionOpen'] = 12 * (data.Year - data.CompetitionOpenSinceYear) + \\\n",
    "                              (data.Month - data.CompetitionOpenSinceMonth)\n",
    "    # Promo open time in months\n",
    "    features.append('PromoOpen')\n",
    "    data['PromoOpen'] = 12 * (data.Year - data.Promo2SinceYear) + \\\n",
    "                        (data.WeekOfYear - data.Promo2SinceWeek) / 4.0\n",
    "    data['PromoOpen'] = data.PromoOpen.apply(lambda x: x if x > 0 else 0)\n",
    "    data.loc[data.Promo2SinceYear == 0, 'PromoOpen'] = 0\n",
    "\n",
    "    # Indicate that sales on that day are in promo interval\n",
    "    features.append('IsPromoMonth')\n",
    "    month2str = {1: 'Jan', 2: 'Feb', 3: 'Mar', 4: 'Apr', 5: 'May', 6: 'Jun', \\\n",
    "                 7: 'Jul', 8: 'Aug', 9: 'Sept', 10: 'Oct', 11: 'Nov', 12: 'Dec'}\n",
    "    data['monthStr'] = data.Month.map(month2str)\n",
    "    data.loc[data.PromoInterval == 0, 'PromoInterval'] = ''\n",
    "    data['IsPromoMonth'] = 0\n",
    "    for interval in data.PromoInterval.unique():\n",
    "        if interval != '':\n",
    "            for month in interval.split(','):\n",
    "                data.loc[(data.monthStr == month) & (data.PromoInterval == interval), 'IsPromoMonth'] = 1\n",
    "\n",
    "    return data\n",
    "\n",
    "\n",
    "feature_list = []\n",
    "\n",
    "build_features(feature_list, train_df)\n",
    "build_features([], test_df)\n",
    "print('Done')\n"
   ],
   "metadata": {
    "collapsed": false
   }
  },
  {
   "cell_type": "code",
   "execution_count": 4,
   "outputs": [
    {
     "data": {
      "text/plain": "         Store  DayOfWeek       Date  Sales  Customers  Open  Promo  \\\n0            1          4 2015-07-31   5263        555     1      1   \n1            1          3 2015-07-30   5020        546     1      1   \n2            1          2 2015-07-29   4782        523     1      1   \n3            1          1 2015-07-28   5011        560     1      1   \n4            1          0 2015-07-27   6102        612     1      1   \n...        ...        ...        ...    ...        ...   ...    ...   \n1017204   1115          5 2013-01-05   4771        339     1      0   \n1017205   1115          4 2013-01-04   4540        326     1      0   \n1017206   1115          3 2013-01-03   4297        300     1      0   \n1017207   1115          2 2013-01-02   3697        305     1      0   \n1017208   1115          1 2013-01-01      0          0     0      0   \n\n         StateHoliday  SchoolHoliday  StoreType  ...  Promo2SinceYear  \\\n0                   0              1          3  ...              0.0   \n1                   0              1          3  ...              0.0   \n2                   0              1          3  ...              0.0   \n3                   0              1          3  ...              0.0   \n4                   0              1          3  ...              0.0   \n...               ...            ...        ...  ...              ...   \n1017204             0              1          4  ...           2012.0   \n1017205             0              1          4  ...           2012.0   \n1017206             0              1          4  ...           2012.0   \n1017207             0              1          4  ...           2012.0   \n1017208             1              1          4  ...           2012.0   \n\n            PromoInterval  Year  Month  Day  WeekOfYear  CompetitionOpen  \\\n0                          2015      7   31          31             82.0   \n1                          2015      7   30          31             82.0   \n2                          2015      7   29          31             82.0   \n3                          2015      7   28          31             82.0   \n4                          2015      7   27          31             82.0   \n...                   ...   ...    ...  ...         ...              ...   \n1017204  Mar,Jun,Sept,Dec  2013      1    5           1          24157.0   \n1017205  Mar,Jun,Sept,Dec  2013      1    4           1          24157.0   \n1017206  Mar,Jun,Sept,Dec  2013      1    3           1          24157.0   \n1017207  Mar,Jun,Sept,Dec  2013      1    2           1          24157.0   \n1017208  Mar,Jun,Sept,Dec  2013      1    1           1          24157.0   \n\n        PromoOpen  monthStr  IsPromoMonth  \n0            0.00       Jul             0  \n1            0.00       Jul             0  \n2            0.00       Jul             0  \n3            0.00       Jul             0  \n4            0.00       Jul             0  \n...           ...       ...           ...  \n1017204      6.75       Jan             0  \n1017205      6.75       Jan             0  \n1017206      6.75       Jan             0  \n1017207      6.75       Jan             0  \n1017208      6.75       Jan             0  \n\n[1017209 rows x 26 columns]",
      "text/html": "<div>\n<style scoped>\n    .dataframe tbody tr th:only-of-type {\n        vertical-align: middle;\n    }\n\n    .dataframe tbody tr th {\n        vertical-align: top;\n    }\n\n    .dataframe thead th {\n        text-align: right;\n    }\n</style>\n<table border=\"1\" class=\"dataframe\">\n  <thead>\n    <tr style=\"text-align: right;\">\n      <th></th>\n      <th>Store</th>\n      <th>DayOfWeek</th>\n      <th>Date</th>\n      <th>Sales</th>\n      <th>Customers</th>\n      <th>Open</th>\n      <th>Promo</th>\n      <th>StateHoliday</th>\n      <th>SchoolHoliday</th>\n      <th>StoreType</th>\n      <th>...</th>\n      <th>Promo2SinceYear</th>\n      <th>PromoInterval</th>\n      <th>Year</th>\n      <th>Month</th>\n      <th>Day</th>\n      <th>WeekOfYear</th>\n      <th>CompetitionOpen</th>\n      <th>PromoOpen</th>\n      <th>monthStr</th>\n      <th>IsPromoMonth</th>\n    </tr>\n  </thead>\n  <tbody>\n    <tr>\n      <th>0</th>\n      <td>1</td>\n      <td>4</td>\n      <td>2015-07-31</td>\n      <td>5263</td>\n      <td>555</td>\n      <td>1</td>\n      <td>1</td>\n      <td>0</td>\n      <td>1</td>\n      <td>3</td>\n      <td>...</td>\n      <td>0.0</td>\n      <td></td>\n      <td>2015</td>\n      <td>7</td>\n      <td>31</td>\n      <td>31</td>\n      <td>82.0</td>\n      <td>0.00</td>\n      <td>Jul</td>\n      <td>0</td>\n    </tr>\n    <tr>\n      <th>1</th>\n      <td>1</td>\n      <td>3</td>\n      <td>2015-07-30</td>\n      <td>5020</td>\n      <td>546</td>\n      <td>1</td>\n      <td>1</td>\n      <td>0</td>\n      <td>1</td>\n      <td>3</td>\n      <td>...</td>\n      <td>0.0</td>\n      <td></td>\n      <td>2015</td>\n      <td>7</td>\n      <td>30</td>\n      <td>31</td>\n      <td>82.0</td>\n      <td>0.00</td>\n      <td>Jul</td>\n      <td>0</td>\n    </tr>\n    <tr>\n      <th>2</th>\n      <td>1</td>\n      <td>2</td>\n      <td>2015-07-29</td>\n      <td>4782</td>\n      <td>523</td>\n      <td>1</td>\n      <td>1</td>\n      <td>0</td>\n      <td>1</td>\n      <td>3</td>\n      <td>...</td>\n      <td>0.0</td>\n      <td></td>\n      <td>2015</td>\n      <td>7</td>\n      <td>29</td>\n      <td>31</td>\n      <td>82.0</td>\n      <td>0.00</td>\n      <td>Jul</td>\n      <td>0</td>\n    </tr>\n    <tr>\n      <th>3</th>\n      <td>1</td>\n      <td>1</td>\n      <td>2015-07-28</td>\n      <td>5011</td>\n      <td>560</td>\n      <td>1</td>\n      <td>1</td>\n      <td>0</td>\n      <td>1</td>\n      <td>3</td>\n      <td>...</td>\n      <td>0.0</td>\n      <td></td>\n      <td>2015</td>\n      <td>7</td>\n      <td>28</td>\n      <td>31</td>\n      <td>82.0</td>\n      <td>0.00</td>\n      <td>Jul</td>\n      <td>0</td>\n    </tr>\n    <tr>\n      <th>4</th>\n      <td>1</td>\n      <td>0</td>\n      <td>2015-07-27</td>\n      <td>6102</td>\n      <td>612</td>\n      <td>1</td>\n      <td>1</td>\n      <td>0</td>\n      <td>1</td>\n      <td>3</td>\n      <td>...</td>\n      <td>0.0</td>\n      <td></td>\n      <td>2015</td>\n      <td>7</td>\n      <td>27</td>\n      <td>31</td>\n      <td>82.0</td>\n      <td>0.00</td>\n      <td>Jul</td>\n      <td>0</td>\n    </tr>\n    <tr>\n      <th>...</th>\n      <td>...</td>\n      <td>...</td>\n      <td>...</td>\n      <td>...</td>\n      <td>...</td>\n      <td>...</td>\n      <td>...</td>\n      <td>...</td>\n      <td>...</td>\n      <td>...</td>\n      <td>...</td>\n      <td>...</td>\n      <td>...</td>\n      <td>...</td>\n      <td>...</td>\n      <td>...</td>\n      <td>...</td>\n      <td>...</td>\n      <td>...</td>\n      <td>...</td>\n      <td>...</td>\n    </tr>\n    <tr>\n      <th>1017204</th>\n      <td>1115</td>\n      <td>5</td>\n      <td>2013-01-05</td>\n      <td>4771</td>\n      <td>339</td>\n      <td>1</td>\n      <td>0</td>\n      <td>0</td>\n      <td>1</td>\n      <td>4</td>\n      <td>...</td>\n      <td>2012.0</td>\n      <td>Mar,Jun,Sept,Dec</td>\n      <td>2013</td>\n      <td>1</td>\n      <td>5</td>\n      <td>1</td>\n      <td>24157.0</td>\n      <td>6.75</td>\n      <td>Jan</td>\n      <td>0</td>\n    </tr>\n    <tr>\n      <th>1017205</th>\n      <td>1115</td>\n      <td>4</td>\n      <td>2013-01-04</td>\n      <td>4540</td>\n      <td>326</td>\n      <td>1</td>\n      <td>0</td>\n      <td>0</td>\n      <td>1</td>\n      <td>4</td>\n      <td>...</td>\n      <td>2012.0</td>\n      <td>Mar,Jun,Sept,Dec</td>\n      <td>2013</td>\n      <td>1</td>\n      <td>4</td>\n      <td>1</td>\n      <td>24157.0</td>\n      <td>6.75</td>\n      <td>Jan</td>\n      <td>0</td>\n    </tr>\n    <tr>\n      <th>1017206</th>\n      <td>1115</td>\n      <td>3</td>\n      <td>2013-01-03</td>\n      <td>4297</td>\n      <td>300</td>\n      <td>1</td>\n      <td>0</td>\n      <td>0</td>\n      <td>1</td>\n      <td>4</td>\n      <td>...</td>\n      <td>2012.0</td>\n      <td>Mar,Jun,Sept,Dec</td>\n      <td>2013</td>\n      <td>1</td>\n      <td>3</td>\n      <td>1</td>\n      <td>24157.0</td>\n      <td>6.75</td>\n      <td>Jan</td>\n      <td>0</td>\n    </tr>\n    <tr>\n      <th>1017207</th>\n      <td>1115</td>\n      <td>2</td>\n      <td>2013-01-02</td>\n      <td>3697</td>\n      <td>305</td>\n      <td>1</td>\n      <td>0</td>\n      <td>0</td>\n      <td>1</td>\n      <td>4</td>\n      <td>...</td>\n      <td>2012.0</td>\n      <td>Mar,Jun,Sept,Dec</td>\n      <td>2013</td>\n      <td>1</td>\n      <td>2</td>\n      <td>1</td>\n      <td>24157.0</td>\n      <td>6.75</td>\n      <td>Jan</td>\n      <td>0</td>\n    </tr>\n    <tr>\n      <th>1017208</th>\n      <td>1115</td>\n      <td>1</td>\n      <td>2013-01-01</td>\n      <td>0</td>\n      <td>0</td>\n      <td>0</td>\n      <td>0</td>\n      <td>1</td>\n      <td>1</td>\n      <td>4</td>\n      <td>...</td>\n      <td>2012.0</td>\n      <td>Mar,Jun,Sept,Dec</td>\n      <td>2013</td>\n      <td>1</td>\n      <td>1</td>\n      <td>1</td>\n      <td>24157.0</td>\n      <td>6.75</td>\n      <td>Jan</td>\n      <td>0</td>\n    </tr>\n  </tbody>\n</table>\n<p>1017209 rows × 26 columns</p>\n</div>"
     },
     "execution_count": 4,
     "metadata": {},
     "output_type": "execute_result"
    }
   ],
   "source": [
    "train_df"
   ],
   "metadata": {
    "collapsed": false
   }
  },
  {
   "cell_type": "code",
   "execution_count": 5,
   "outputs": [],
   "source": [
    "from sklearn.preprocessing import OneHotEncoder\n",
    "\n",
    "encoder = OneHotEncoder()\n",
    "train_one_hot = encoder.fit_transform(train_df[['DayOfWeek', 'Month', 'StoreType', 'Assortment', 'StateHoliday']])\n",
    "test_one_hot = encoder.transform(test_df[['DayOfWeek', 'Month', 'StoreType', 'Assortment', 'StateHoliday']])\n",
    "\n"
   ],
   "metadata": {
    "collapsed": false
   }
  },
  {
   "cell_type": "code",
   "execution_count": 6,
   "outputs": [
    {
     "data": {
      "text/plain": "array([[0., 0., 0., ..., 0., 0., 0.],\n       [0., 0., 0., ..., 0., 0., 0.],\n       [0., 0., 1., ..., 0., 0., 0.],\n       ...,\n       [0., 0., 0., ..., 0., 0., 0.],\n       [0., 0., 1., ..., 0., 0., 0.],\n       [0., 1., 0., ..., 1., 0., 0.]])"
     },
     "execution_count": 6,
     "metadata": {},
     "output_type": "execute_result"
    }
   ],
   "source": [
    "train_one_hot.toarray()"
   ],
   "metadata": {
    "collapsed": false
   }
  },
  {
   "cell_type": "code",
   "execution_count": 7,
   "outputs": [
    {
     "data": {
      "text/plain": "   Sales  CompetitionDistance  Promo  Promo2  SchoolHoliday  Year  PromoOpen  \\\n0   5263               1270.0      1       0              1  2015        0.0   \n1   5020               1270.0      1       0              1  2015        0.0   \n2   4782               1270.0      1       0              1  2015        0.0   \n3   5011               1270.0      1       0              1  2015        0.0   \n4   6102               1270.0      1       0              1  2015        0.0   \n\n   IsPromoMonth  DayOfWeek_0  DayOfWeek_1  ...  StoreType_2  StoreType_3  \\\n0             0          0.0          0.0  ...          0.0          1.0   \n1             0          0.0          0.0  ...          0.0          1.0   \n2             0          0.0          0.0  ...          0.0          1.0   \n3             0          0.0          1.0  ...          0.0          1.0   \n4             0          1.0          0.0  ...          0.0          1.0   \n\n   StoreType_4  Assortment_1  Assortment_2  Assortment_3  StateHoliday_0  \\\n0          0.0           1.0           0.0           0.0             1.0   \n1          0.0           1.0           0.0           0.0             1.0   \n2          0.0           1.0           0.0           0.0             1.0   \n3          0.0           1.0           0.0           0.0             1.0   \n4          0.0           1.0           0.0           0.0             1.0   \n\n   StateHoliday_1  StateHoliday_2  StateHoliday_3  \n0             0.0             0.0             0.0  \n1             0.0             0.0             0.0  \n2             0.0             0.0             0.0  \n3             0.0             0.0             0.0  \n4             0.0             0.0             0.0  \n\n[5 rows x 38 columns]",
      "text/html": "<div>\n<style scoped>\n    .dataframe tbody tr th:only-of-type {\n        vertical-align: middle;\n    }\n\n    .dataframe tbody tr th {\n        vertical-align: top;\n    }\n\n    .dataframe thead th {\n        text-align: right;\n    }\n</style>\n<table border=\"1\" class=\"dataframe\">\n  <thead>\n    <tr style=\"text-align: right;\">\n      <th></th>\n      <th>Sales</th>\n      <th>CompetitionDistance</th>\n      <th>Promo</th>\n      <th>Promo2</th>\n      <th>SchoolHoliday</th>\n      <th>Year</th>\n      <th>PromoOpen</th>\n      <th>IsPromoMonth</th>\n      <th>DayOfWeek_0</th>\n      <th>DayOfWeek_1</th>\n      <th>...</th>\n      <th>StoreType_2</th>\n      <th>StoreType_3</th>\n      <th>StoreType_4</th>\n      <th>Assortment_1</th>\n      <th>Assortment_2</th>\n      <th>Assortment_3</th>\n      <th>StateHoliday_0</th>\n      <th>StateHoliday_1</th>\n      <th>StateHoliday_2</th>\n      <th>StateHoliday_3</th>\n    </tr>\n  </thead>\n  <tbody>\n    <tr>\n      <th>0</th>\n      <td>5263</td>\n      <td>1270.0</td>\n      <td>1</td>\n      <td>0</td>\n      <td>1</td>\n      <td>2015</td>\n      <td>0.0</td>\n      <td>0</td>\n      <td>0.0</td>\n      <td>0.0</td>\n      <td>...</td>\n      <td>0.0</td>\n      <td>1.0</td>\n      <td>0.0</td>\n      <td>1.0</td>\n      <td>0.0</td>\n      <td>0.0</td>\n      <td>1.0</td>\n      <td>0.0</td>\n      <td>0.0</td>\n      <td>0.0</td>\n    </tr>\n    <tr>\n      <th>1</th>\n      <td>5020</td>\n      <td>1270.0</td>\n      <td>1</td>\n      <td>0</td>\n      <td>1</td>\n      <td>2015</td>\n      <td>0.0</td>\n      <td>0</td>\n      <td>0.0</td>\n      <td>0.0</td>\n      <td>...</td>\n      <td>0.0</td>\n      <td>1.0</td>\n      <td>0.0</td>\n      <td>1.0</td>\n      <td>0.0</td>\n      <td>0.0</td>\n      <td>1.0</td>\n      <td>0.0</td>\n      <td>0.0</td>\n      <td>0.0</td>\n    </tr>\n    <tr>\n      <th>2</th>\n      <td>4782</td>\n      <td>1270.0</td>\n      <td>1</td>\n      <td>0</td>\n      <td>1</td>\n      <td>2015</td>\n      <td>0.0</td>\n      <td>0</td>\n      <td>0.0</td>\n      <td>0.0</td>\n      <td>...</td>\n      <td>0.0</td>\n      <td>1.0</td>\n      <td>0.0</td>\n      <td>1.0</td>\n      <td>0.0</td>\n      <td>0.0</td>\n      <td>1.0</td>\n      <td>0.0</td>\n      <td>0.0</td>\n      <td>0.0</td>\n    </tr>\n    <tr>\n      <th>3</th>\n      <td>5011</td>\n      <td>1270.0</td>\n      <td>1</td>\n      <td>0</td>\n      <td>1</td>\n      <td>2015</td>\n      <td>0.0</td>\n      <td>0</td>\n      <td>0.0</td>\n      <td>1.0</td>\n      <td>...</td>\n      <td>0.0</td>\n      <td>1.0</td>\n      <td>0.0</td>\n      <td>1.0</td>\n      <td>0.0</td>\n      <td>0.0</td>\n      <td>1.0</td>\n      <td>0.0</td>\n      <td>0.0</td>\n      <td>0.0</td>\n    </tr>\n    <tr>\n      <th>4</th>\n      <td>6102</td>\n      <td>1270.0</td>\n      <td>1</td>\n      <td>0</td>\n      <td>1</td>\n      <td>2015</td>\n      <td>0.0</td>\n      <td>0</td>\n      <td>1.0</td>\n      <td>0.0</td>\n      <td>...</td>\n      <td>0.0</td>\n      <td>1.0</td>\n      <td>0.0</td>\n      <td>1.0</td>\n      <td>0.0</td>\n      <td>0.0</td>\n      <td>1.0</td>\n      <td>0.0</td>\n      <td>0.0</td>\n      <td>0.0</td>\n    </tr>\n  </tbody>\n</table>\n<p>5 rows × 38 columns</p>\n</div>"
     },
     "execution_count": 7,
     "metadata": {},
     "output_type": "execute_result"
    }
   ],
   "source": [
    "train_df_clean = pd.concat([\n",
    "    train_df[['Sales', \"CompetitionDistance\", \"Promo\", \"Promo2\", \"SchoolHoliday\", 'Year', 'PromoOpen', 'IsPromoMonth']],\n",
    "    pd.DataFrame(train_one_hot.toarray(), columns=encoder.get_feature_names_out().tolist())\n",
    "], axis=1)\n",
    "\n",
    "test_df_clean = pd.concat([\n",
    "    test_df[[\"CompetitionDistance\", \"Promo\", \"Promo2\", \"SchoolHoliday\", 'Year', 'PromoOpen', 'IsPromoMonth']],\n",
    "    pd.DataFrame(test_one_hot.toarray(), columns=encoder.get_feature_names_out().tolist())\n",
    "])\n",
    "\n",
    "train_df_clean.head(5)"
   ],
   "metadata": {
    "collapsed": false
   }
  },
  {
   "cell_type": "code",
   "execution_count": 8,
   "outputs": [],
   "source": [
    "from sklearn.model_selection import train_test_split\n",
    "\n",
    "X_train, X_valid = train_test_split(train_df_clean, test_size=41088, random_state=42)"
   ],
   "metadata": {
    "collapsed": false
   }
  },
  {
   "cell_type": "code",
   "execution_count": 9,
   "outputs": [],
   "source": [
    "import json\n",
    "\n",
    "X_train.to_csv('../data/for_training/train.csv', index=False)\n",
    "X_valid.to_csv('../data/for_training/valid.csv', index=False)\n",
    "test_df_clean.to_csv('../data/for_training/test.csv', index=False)\n"
   ],
   "metadata": {
    "collapsed": false
   }
  },
  {
   "cell_type": "code",
   "execution_count": 10,
   "outputs": [],
   "source": [
    "\n",
    "features = {'features': test_df_clean.columns.tolist(), 'target': 'Sales'}\n",
    "\n",
    "with open('../data/for_training/features.json', 'w') as f:\n",
    "    json.dump(features, f, indent=4)"
   ],
   "metadata": {
    "collapsed": false
   }
  },
  {
   "cell_type": "code",
   "execution_count": 10,
   "outputs": [],
   "source": [],
   "metadata": {
    "collapsed": false
   }
  }
 ],
 "metadata": {
  "kernelspec": {
   "display_name": "Python 3",
   "language": "python",
   "name": "python3"
  },
  "language_info": {
   "codemirror_mode": {
    "name": "ipython",
    "version": 2
   },
   "file_extension": ".py",
   "mimetype": "text/x-python",
   "name": "python",
   "nbconvert_exporter": "python",
   "pygments_lexer": "ipython2",
   "version": "2.7.6"
  }
 },
 "nbformat": 4,
 "nbformat_minor": 0
}
